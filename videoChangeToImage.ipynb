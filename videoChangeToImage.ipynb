{
 "cells": [
  {
   "cell_type": "code",
   "execution_count": 1,
   "metadata": {},
   "outputs": [
    {
     "ename": "ModuleNotFoundError",
     "evalue": "No module named 'cv2'",
     "output_type": "error",
     "traceback": [
      "\u001b[1;31m---------------------------------------------------------------------------\u001b[0m",
      "\u001b[1;31mModuleNotFoundError\u001b[0m                       Traceback (most recent call last)",
      "Cell \u001b[1;32mIn[1], line 1\u001b[0m\n\u001b[1;32m----> 1\u001b[0m \u001b[38;5;28;01mimport\u001b[39;00m\u001b[38;5;250m \u001b[39m\u001b[38;5;21;01mcv2\u001b[39;00m\n\u001b[0;32m      2\u001b[0m \u001b[38;5;28;01mimport\u001b[39;00m\u001b[38;5;250m \u001b[39m\u001b[38;5;21;01mos\u001b[39;00m\n\u001b[0;32m      4\u001b[0m \u001b[38;5;66;03m# 비디오 파일 경로 리스트\u001b[39;00m\n",
      "\u001b[1;31mModuleNotFoundError\u001b[0m: No module named 'cv2'"
     ]
    }
   ],
   "source": [
    "import cv2\n",
    "import os\n",
    "\n",
    "# 비디오 파일 경로 리스트\n",
    "video_paths = [\n",
    "    '/path/to/your/video1.mp4',\n",
    "    '/path/to/your/video2.mp4',\n",
    "    # 더 많은 영상 파일 경로를 추가할 수 있습니다.\n",
    "]\n",
    "\n",
    "# 출력 이미지 저장 기본 경로\n",
    "output_base_dir = '/path/to/output/directory'\n",
    "\n",
    "# 각 비디오 파일에 대해 처리\n",
    "for video_path in video_paths:\n",
    "    cap = cv2.VideoCapture(video_path)\n",
    "    if not cap.isOpened():\n",
    "        print(f\"Cannot open video file {video_path}\")\n",
    "        continue\n",
    "\n",
    "    # FPS(초당 프레임 수) 얻기\n",
    "    fps = cap.get(cv2.CAP_PROP_FPS)\n",
    "    frame_interval = int(fps * 0.5)  # 0.5초 간격의 프레임\n",
    "\n",
    "    # 영상 파일명으로 디렉토리 생성\n",
    "    video_name = os.path.basename(video_path).split('.')[0]\n",
    "    output_dir = os.path.join(output_base_dir, video_name)\n",
    "    os.makedirs(output_dir, exist_ok=True)\n",
    "\n",
    "    frame_number = 0\n",
    "    saved_frame_number = 0\n",
    "    while cap.isOpened():\n",
    "        ret, frame = cap.read()\n",
    "        if not ret:\n",
    "            break\n",
    "\n",
    "        if frame_number % frame_interval == 0:\n",
    "            output_path = f\"{output_dir}/frame_{saved_frame_number}.jpg\"\n",
    "            cv2.imwrite(output_path, frame)\n",
    "            print(f\"Saved frame {saved_frame_number} from {video_name} to {output_path}\")\n",
    "            saved_frame_number += 1\n",
    "\n",
    "        frame_number += 1\n",
    "\n",
    "    cap.release()\n"
   ]
  }
 ],
 "metadata": {
  "kernelspec": {
   "display_name": "Python 3",
   "language": "python",
   "name": "python3"
  },
  "language_info": {
   "codemirror_mode": {
    "name": "ipython",
    "version": 3
   },
   "file_extension": ".py",
   "mimetype": "text/x-python",
   "name": "python",
   "nbconvert_exporter": "python",
   "pygments_lexer": "ipython3",
   "version": "3.9.13"
  }
 },
 "nbformat": 4,
 "nbformat_minor": 2
}
